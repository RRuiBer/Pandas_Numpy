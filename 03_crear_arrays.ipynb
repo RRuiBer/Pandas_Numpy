{
 "cells": [
  {
   "cell_type": "markdown",
   "metadata": {},
   "source": [
    "## Crear listas directamente de numpy"
   ]
  },
  {
   "cell_type": "code",
   "execution_count": 2,
   "metadata": {},
   "outputs": [],
   "source": [
    "import numpy as np"
   ]
  },
  {
   "cell_type": "markdown",
   "metadata": {},
   "source": [
    "Un array de un rango: $arreglo = np.arrange(\\text{inicio},\\text{ fin},\\text{ pasos})$."
   ]
  },
  {
   "cell_type": "code",
   "execution_count": 12,
   "metadata": {},
   "outputs": [
    {
     "name": "stdout",
     "output_type": "stream",
     "text": [
      "[ 3  5  7  9 11 13 15 17 19 21 23 25 27 29 31 33 35 37 39 41 43 45 47 49\n",
      " 51 53 55 57 59 61 63 65 67 69 71 73 75 77 79 81 83 85 87 89 91 93 95 97]\n"
     ]
    }
   ],
   "source": [
    "arr = np.arange(3,98,2)\n",
    "print(arr)"
   ]
  },
  {
   "cell_type": "markdown",
   "metadata": {},
   "source": [
    "Un vector de ceros: $vceros = np.zeros(\\text{numero de ceros})$."
   ]
  },
  {
   "cell_type": "code",
   "execution_count": 16,
   "metadata": {},
   "outputs": [
    {
     "name": "stdout",
     "output_type": "stream",
     "text": [
      "[0. 0. 0. 0. 0. 0.]\n"
     ]
    }
   ],
   "source": [
    "vceros = np.zeros(6)\n",
    "print(vceros)"
   ]
  },
  {
   "cell_type": "markdown",
   "metadata": {},
   "source": [
    "Una matriz de ceros: $mceros = np.zeros(\\text{número der filas}, \\text{número de columnas})$."
   ]
  },
  {
   "cell_type": "code",
   "execution_count": 19,
   "metadata": {},
   "outputs": [
    {
     "name": "stdout",
     "output_type": "stream",
     "text": [
      "[[0. 0. 0. 0. 0.]\n",
      " [0. 0. 0. 0. 0.]\n",
      " [0. 0. 0. 0. 0.]]\n"
     ]
    }
   ],
   "source": [
    "mceros = np.zeros((3,5))\n",
    "print(mceros)"
   ]
  },
  {
   "cell_type": "markdown",
   "metadata": {},
   "source": [
    "Un tensor de ceros: $tceros = np.zeros(\\text{número de matrices}, \\text{filas por matriz}, \\text{columnas por matriz})$."
   ]
  },
  {
   "cell_type": "code",
   "execution_count": 21,
   "metadata": {},
   "outputs": [
    {
     "name": "stdout",
     "output_type": "stream",
     "text": [
      "[[[0. 0. 0. 0. 0.]\n",
      "  [0. 0. 0. 0. 0.]\n",
      "  [0. 0. 0. 0. 0.]]\n",
      "\n",
      " [[0. 0. 0. 0. 0.]\n",
      "  [0. 0. 0. 0. 0.]\n",
      "  [0. 0. 0. 0. 0.]]]\n"
     ]
    }
   ],
   "source": [
    "tceros = np.zeros((2,3,5))\n",
    "print(tceros)"
   ]
  },
  {
   "cell_type": "markdown",
   "metadata": {},
   "source": [
    "Podemos seguir el mismo razonamiento con arreglos de números uno.\n",
    "Por ejemplo, un tensor de orden 4 donde todas sus entradas son 1:\n",
    "$\\\\ tunos = np.ones((\\text{número de tensores de orden tres}, \\text{tensor de orden tres}))$\n",
    "$$T_{ijkl} = 1, \\forall i, j, k, l.$$"
   ]
  },
  {
   "cell_type": "code",
   "execution_count": 27,
   "metadata": {},
   "outputs": [
    {
     "name": "stdout",
     "output_type": "stream",
     "text": [
      "[[[[1. 1. 1. 1. 1.]\n",
      "   [1. 1. 1. 1. 1.]]\n",
      "\n",
      "  [[1. 1. 1. 1. 1.]\n",
      "   [1. 1. 1. 1. 1.]]\n",
      "\n",
      "  [[1. 1. 1. 1. 1.]\n",
      "   [1. 1. 1. 1. 1.]]]\n",
      "\n",
      "\n",
      " [[[1. 1. 1. 1. 1.]\n",
      "   [1. 1. 1. 1. 1.]]\n",
      "\n",
      "  [[1. 1. 1. 1. 1.]\n",
      "   [1. 1. 1. 1. 1.]]\n",
      "\n",
      "  [[1. 1. 1. 1. 1.]\n",
      "   [1. 1. 1. 1. 1.]]]]\n"
     ]
    }
   ],
   "source": [
    "tunos = np.ones((2,3,2,5)) # dos arreglos de tres matrices cada una con dos filas y cinco columnas\n",
    "print(tunos)"
   ]
  },
  {
   "cell_type": "markdown",
   "metadata": {},
   "source": [
    "## Linspace"
   ]
  },
  {
   "cell_type": "markdown",
   "metadata": {},
   "source": [
    "Genera la división de un rango en un número de partes deseado."
   ]
  },
  {
   "cell_type": "markdown",
   "metadata": {},
   "source": [
    "Ejemplo: un arreglo de 50 elementos que inicia en el 2 y termina en el tres:"
   ]
  },
  {
   "cell_type": "code",
   "execution_count": 30,
   "metadata": {},
   "outputs": [
    {
     "name": "stdout",
     "output_type": "stream",
     "text": [
      "[2.         2.02040816 2.04081633 2.06122449 2.08163265 2.10204082\n",
      " 2.12244898 2.14285714 2.16326531 2.18367347 2.20408163 2.2244898\n",
      " 2.24489796 2.26530612 2.28571429 2.30612245 2.32653061 2.34693878\n",
      " 2.36734694 2.3877551  2.40816327 2.42857143 2.44897959 2.46938776\n",
      " 2.48979592 2.51020408 2.53061224 2.55102041 2.57142857 2.59183673\n",
      " 2.6122449  2.63265306 2.65306122 2.67346939 2.69387755 2.71428571\n",
      " 2.73469388 2.75510204 2.7755102  2.79591837 2.81632653 2.83673469\n",
      " 2.85714286 2.87755102 2.89795918 2.91836735 2.93877551 2.95918367\n",
      " 2.97959184 3.        ] \n",
      " 50\n"
     ]
    }
   ],
   "source": [
    "intervalo2_3 = np.linspace(2,3,50)\n",
    "print(intervalo2_3, \"\\n\", len(intervalo2_3))"
   ]
  },
  {
   "cell_type": "markdown",
   "metadata": {},
   "source": [
    "## La matriz identidad"
   ]
  },
  {
   "cell_type": "markdown",
   "metadata": {},
   "source": [
    "Genera la matriz identidad con la sentencia eye: $\\\\ id = np.eye(\\text{numero de filas}) \\\\ \\text{(El número de filas es igual al número de columnas)}$.\n"
   ]
  },
  {
   "cell_type": "code",
   "execution_count": 32,
   "metadata": {},
   "outputs": [
    {
     "name": "stdout",
     "output_type": "stream",
     "text": [
      "[[1. 0. 0. 0. 0.]\n",
      " [0. 1. 0. 0. 0.]\n",
      " [0. 0. 1. 0. 0.]\n",
      " [0. 0. 0. 1. 0.]\n",
      " [0. 0. 0. 0. 1.]]\n"
     ]
    }
   ],
   "source": [
    "id = np.eye(5)\n",
    "print(id)"
   ]
  },
  {
   "cell_type": "markdown",
   "metadata": {},
   "source": [
    "## Random"
   ]
  },
  {
   "cell_type": "markdown",
   "metadata": {},
   "source": [
    "Podemos crear tensores de cualquier orden con entradas aleatorias."
   ]
  },
  {
   "cell_type": "markdown",
   "metadata": {},
   "source": [
    "### rand()"
   ]
  },
  {
   "cell_type": "markdown",
   "metadata": {},
   "source": [
    "Genera valores aleatorios entre el cero y uno."
   ]
  },
  {
   "cell_type": "code",
   "execution_count": 35,
   "metadata": {},
   "outputs": [
    {
     "name": "stdout",
     "output_type": "stream",
     "text": [
      "vran = \n",
      "[0.0649457  0.06004603 0.32161784]\n",
      "es un vector con tres entradas generadas de manera aleatoria.\n"
     ]
    }
   ],
   "source": [
    "vrand = np.random.rand(3)\n",
    "print(f\"vrand = \\n{vrand}\\nes un vector con tres entradas generadas de manera aleatoria.\")"
   ]
  },
  {
   "cell_type": "code",
   "execution_count": 38,
   "metadata": {},
   "outputs": [
    {
     "name": "stdout",
     "output_type": "stream",
     "text": [
      "mrand = \n",
      "[[0.43118804 0.57142473 0.65918108]\n",
      " [0.06285374 0.03394474 0.81672096]]\n",
      "es es una matriz de dos filas y tres columnas cuyas entradas son valores generados de manera aleatoria.\n"
     ]
    }
   ],
   "source": [
    "mrand = np.random.rand(2,3)\n",
    "print(f\"mrand = \\n{mrand}\\nes es una matriz de dos filas y tres columnas cuyas entradas son valores generados de manera aleatoria.\")"
   ]
  },
  {
   "cell_type": "code",
   "execution_count": 39,
   "metadata": {},
   "outputs": [
    {
     "name": "stdout",
     "output_type": "stream",
     "text": [
      "trand = \n",
      "[[[0.03728512 0.83871675 0.5793754 ]\n",
      "  [0.40103356 0.13648335 0.74984019]]\n",
      "\n",
      " [[0.22068306 0.30368832 0.540394  ]\n",
      "  [0.14777424 0.96757323 0.88852077]]]\n",
      "es es un tensor con dos arreglos matriciales de dos filas y tres columnas cuyas entradas son valores generados de manera aleatoria.\n"
     ]
    }
   ],
   "source": [
    "trand = np.random.rand(2,2,3)\n",
    "print(f\"trand = \\n{trand}\\nes es un tensor con dos arreglos matriciales de dos filas y tres columnas cuyas entradas son valores generados de manera aleatoria.\")"
   ]
  },
  {
   "cell_type": "markdown",
   "metadata": {},
   "source": [
    "### randint()"
   ]
  },
  {
   "cell_type": "markdown",
   "metadata": {},
   "source": [
    "Podemos crear tensores de cualquier orden con entradas aleatorias seleccionadas de un rango en especifico."
   ]
  },
  {
   "cell_type": "code",
   "execution_count": 48,
   "metadata": {},
   "outputs": [
    {
     "name": "stdout",
     "output_type": "stream",
     "text": [
      "trandint =\n",
      "[[[[17 15 10 14 18]\n",
      "   [20 11 24 19 22]]\n",
      "\n",
      "  [[29 20 22 29 27]\n",
      "   [29 16 19 23 25]]\n",
      "\n",
      "  [[23 18 17 23 19]\n",
      "   [28 20 24 21 20]]]\n",
      "\n",
      "\n",
      " [[[17 12 27 23 27]\n",
      "   [28 29 19 11 20]]\n",
      "\n",
      "  [[19 11 16 17 10]\n",
      "   [13 29 22 10 28]]\n",
      "\n",
      "  [[26 11 17 14 26]\n",
      "   [13 26 15 15 14]]]]\n",
      "es un tensor de orden cuatro.\n",
      "Consta de dos arreglos de tres matrices, cada matriz tiene dos filas y cinco columnas.\n"
     ]
    }
   ],
   "source": [
    "trandint = np.random.randint(10,30,(2,3,2,5))\n",
    "print(f\"trandint =\\n{trandint}\\nes un tensor de orden cuatro.\\nConsta de dos arreglos de tres matrices, cada matriz tiene dos filas y cinco columnas.\")"
   ]
  }
 ],
 "metadata": {
  "kernelspec": {
   "display_name": "Python 3",
   "language": "python",
   "name": "python3"
  },
  "language_info": {
   "codemirror_mode": {
    "name": "ipython",
    "version": 3
   },
   "file_extension": ".py",
   "mimetype": "text/x-python",
   "name": "python",
   "nbconvert_exporter": "python",
   "pygments_lexer": "ipython3",
   "version": "3.10.12"
  },
  "orig_nbformat": 4
 },
 "nbformat": 4,
 "nbformat_minor": 2
}
