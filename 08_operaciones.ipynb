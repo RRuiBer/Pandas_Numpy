{
 "cells": [
  {
   "cell_type": "markdown",
   "metadata": {},
   "source": [
    "## Operaciones"
   ]
  },
  {
   "cell_type": "code",
   "execution_count": 16,
   "metadata": {},
   "outputs": [],
   "source": [
    "import numpy as np"
   ]
  },
  {
   "cell_type": "markdown",
   "metadata": {},
   "source": [
    "### Con vectores"
   ]
  },
  {
   "cell_type": "code",
   "execution_count": 17,
   "metadata": {},
   "outputs": [
    {
     "name": "stdout",
     "output_type": "stream",
     "text": [
      "[1 2]\n"
     ]
    }
   ],
   "source": [
    "vector = np.array([1,2])\n",
    "print(vector)"
   ]
  },
  {
   "cell_type": "markdown",
   "metadata": {},
   "source": [
    "#### Suma"
   ]
  },
  {
   "cell_type": "code",
   "execution_count": 18,
   "metadata": {},
   "outputs": [
    {
     "name": "stdout",
     "output_type": "stream",
     "text": [
      "[2 4]\n"
     ]
    }
   ],
   "source": [
    "vector2 = vector + vector\n",
    "print(vector2)"
   ]
  },
  {
   "cell_type": "markdown",
   "metadata": {},
   "source": [
    "#### Producto escalar"
   ]
  },
  {
   "cell_type": "code",
   "execution_count": 19,
   "metadata": {},
   "outputs": [
    {
     "name": "stdout",
     "output_type": "stream",
     "text": [
      "[3 6]\n"
     ]
    }
   ],
   "source": [
    "vector2 = 3*vector\n",
    "print(vector2)"
   ]
  },
  {
   "cell_type": "markdown",
   "metadata": {},
   "source": [
    "#### Producto punto"
   ]
  },
  {
   "cell_type": "code",
   "execution_count": 20,
   "metadata": {},
   "outputs": [
    {
     "name": "stdout",
     "output_type": "stream",
     "text": [
      "[1 4]\n"
     ]
    }
   ],
   "source": [
    "vector2 = vector*vector\n",
    "print(vector2)"
   ]
  },
  {
   "cell_type": "markdown",
   "metadata": {},
   "source": [
    "### Con matrices"
   ]
  },
  {
   "cell_type": "code",
   "execution_count": 21,
   "metadata": {},
   "outputs": [
    {
     "name": "stdout",
     "output_type": "stream",
     "text": [
      "[[1 2 1]\n",
      " [1 1 4]]\n"
     ]
    }
   ],
   "source": [
    "matriz = np.random.randint(1,5,(2,3))\n",
    "print(matriz)"
   ]
  },
  {
   "cell_type": "markdown",
   "metadata": {},
   "source": [
    "#### Suma"
   ]
  },
  {
   "cell_type": "code",
   "execution_count": 22,
   "metadata": {},
   "outputs": [
    {
     "name": "stdout",
     "output_type": "stream",
     "text": [
      "[[2 4 2]\n",
      " [2 2 8]]\n"
     ]
    }
   ],
   "source": [
    "matriz2 = matriz+matriz\n",
    "print(matriz2)"
   ]
  },
  {
   "cell_type": "markdown",
   "metadata": {},
   "source": [
    "#### Producto escalar"
   ]
  },
  {
   "cell_type": "code",
   "execution_count": 24,
   "metadata": {},
   "outputs": [
    {
     "name": "stdout",
     "output_type": "stream",
     "text": [
      "[[ 3  6  3]\n",
      " [ 3  3 12]]\n"
     ]
    }
   ],
   "source": [
    "matriz2 = 3*matriz\n",
    "print(matriz2)"
   ]
  },
  {
   "cell_type": "markdown",
   "metadata": {},
   "source": [
    "#### Producto punto"
   ]
  },
  {
   "cell_type": "code",
   "execution_count": 26,
   "metadata": {},
   "outputs": [
    {
     "name": "stdout",
     "output_type": "stream",
     "text": [
      "[[ 1  4  1]\n",
      " [ 1  1 16]]\n"
     ]
    }
   ],
   "source": [
    "matriz2 = matriz*matriz\n",
    "print(matriz2)"
   ]
  },
  {
   "cell_type": "markdown",
   "metadata": {},
   "source": [
    "#### Producto de matrices\n",
    "Tener en cuenta que en el producto de dos matrices $M1$ y $M2$, si las dimensiones de la matriz $M1$ son $n\\times p$, las dimensiones de la matriz $M2$ deben ser $p\\times n, \\ \\text{donde }n \\ \\text{y } p \\in \\mathbb N$. El resultado $M = M1\\times M2$ tiene dimensiones $n\\times n$."
   ]
  },
  {
   "cell_type": "code",
   "execution_count": 29,
   "metadata": {},
   "outputs": [
    {
     "name": "stdout",
     "output_type": "stream",
     "text": [
      "[[ 6  7]\n",
      " [ 7 18]]\n"
     ]
    }
   ],
   "source": [
    "matriz2 = np.matmul(matriz,matriz.T)\n",
    "print(matriz2)"
   ]
  },
  {
   "cell_type": "markdown",
   "metadata": {},
   "source": [
    "### Con tensores"
   ]
  },
  {
   "cell_type": "code",
   "execution_count": 32,
   "metadata": {},
   "outputs": [
    {
     "name": "stdout",
     "output_type": "stream",
     "text": [
      "[[[-1  0  1]\n",
      "  [ 1  1  0]\n",
      "  [ 0  0 -1]]\n",
      "\n",
      " [[ 0  1  1]\n",
      "  [ 1  0 -1]\n",
      "  [-1 -1  0]]]\n"
     ]
    }
   ],
   "source": [
    "tensor = np.random.randint(-1,2,(2,3,3))\n",
    "print(tensor)"
   ]
  },
  {
   "cell_type": "markdown",
   "metadata": {},
   "source": [
    "Producto punto"
   ]
  },
  {
   "cell_type": "code",
   "execution_count": 41,
   "metadata": {},
   "outputs": [
    {
     "name": "stdout",
     "output_type": "stream",
     "text": [
      "[[[ 1  0 -1]\n",
      "  [-1 -1  0]\n",
      "  [ 0  0  1]]\n",
      "\n",
      " [[ 0 -1 -1]\n",
      "  [-1  0  1]\n",
      "  [ 1  1  0]]]\n",
      "[[[-1  0  3]\n",
      "  [ 1  2  0]\n",
      "  [ 0  0 -3]]\n",
      "\n",
      " [[ 0  2  3]\n",
      "  [ 1  0 -3]\n",
      "  [-1 -2  0]]]\n",
      "[[[-1  0  3]\n",
      "  [ 4  5  0]\n",
      "  [ 0  0 -9]]\n",
      "\n",
      " [[ 0  2  3]\n",
      "  [ 4  0 -6]\n",
      "  [-7 -8  0]]]\n",
      "[[[1 0 1]\n",
      "  [1 1 0]\n",
      "  [0 0 1]]\n",
      "\n",
      " [[0 1 1]\n",
      "  [1 0 1]\n",
      "  [1 1 0]]]\n"
     ]
    }
   ],
   "source": [
    "print(-1*tensor)\n",
    "print(np.array([1,2,3])*tensor)\n",
    "print(np.array([[1,2,3],[4,5,6],[7,8,9]])*tensor)\n",
    "print(tensor*tensor)\n"
   ]
  },
  {
   "cell_type": "markdown",
   "metadata": {},
   "source": [
    "Producto tensorial"
   ]
  },
  {
   "cell_type": "code",
   "execution_count": 43,
   "metadata": {},
   "outputs": [
    {
     "name": "stdout",
     "output_type": "stream",
     "text": [
      "[[1 2 3]\n",
      " [2 4 6]\n",
      " [3 6 9]]\n"
     ]
    }
   ],
   "source": [
    "ref_vector = np.array([1,2,3])\n",
    "generated_tensor = np.tensordot(ref_vector,ref_vector,axes=0)\n",
    "print(generated_tensor)"
   ]
  },
  {
   "cell_type": "code",
   "execution_count": 47,
   "metadata": {},
   "outputs": [
    {
     "name": "stdout",
     "output_type": "stream",
     "text": [
      "[ 8 15]\n"
     ]
    }
   ],
   "source": [
    "generated_tensor = np.tensordot(matriz,ref_vector,axes=1)\n",
    "print(generated_tensor)"
   ]
  },
  {
   "cell_type": "code",
   "execution_count": 50,
   "metadata": {},
   "outputs": [
    {
     "name": "stdout",
     "output_type": "stream",
     "text": [
      "[-2 -1  0]\n"
     ]
    }
   ],
   "source": [
    "generated_tensor = np.tensordot(matriz,tensor,axes=2)\n",
    "print(generated_tensor)"
   ]
  },
  {
   "cell_type": "code",
   "execution_count": 51,
   "metadata": {},
   "outputs": [
    {
     "name": "stdout",
     "output_type": "stream",
     "text": [
      "24\n"
     ]
    }
   ],
   "source": [
    "generated_tensor = np.tensordot(matriz,matriz,axes=2)\n",
    "print(generated_tensor)"
   ]
  },
  {
   "cell_type": "code",
   "execution_count": 49,
   "metadata": {},
   "outputs": [
    {
     "name": "stdout",
     "output_type": "stream",
     "text": [
      "11\n"
     ]
    }
   ],
   "source": [
    "generated_tensor = np.tensordot(tensor,tensor,axes=3)\n",
    "print(generated_tensor)"
   ]
  }
 ],
 "metadata": {
  "kernelspec": {
   "display_name": "Python 3",
   "language": "python",
   "name": "python3"
  },
  "language_info": {
   "codemirror_mode": {
    "name": "ipython",
    "version": 3
   },
   "file_extension": ".py",
   "mimetype": "text/x-python",
   "name": "python",
   "nbconvert_exporter": "python",
   "pygments_lexer": "ipython3",
   "version": "3.10.12"
  },
  "orig_nbformat": 4
 },
 "nbformat": 4,
 "nbformat_minor": 2
}
