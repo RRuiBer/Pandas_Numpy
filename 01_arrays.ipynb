{
 "cells": [
  {
   "cell_type": "markdown",
   "metadata": {},
   "source": [
    "## Usar arrays con numpy"
   ]
  },
  {
   "cell_type": "code",
   "execution_count": 1,
   "metadata": {},
   "outputs": [],
   "source": [
    "import numpy as np"
   ]
  },
  {
   "cell_type": "code",
   "execution_count": 2,
   "metadata": {},
   "outputs": [
    {
     "name": "stdout",
     "output_type": "stream",
     "text": [
      "\n",
      "Esto es una lista: [1, 2, 3, 4, 5, 6, 7, 8, 9]. \n",
      "El primer elemento de la lista es: 1. \n",
      "El tipo de dato de esta lista es: <class 'list'>. \n",
      "El tercer elemento de la lista sumado con el séptimo elemento de la lista es: 10.\n"
     ]
    }
   ],
   "source": [
    "lista = [1,2,3,4,5,6,7,8,9]\n",
    "print(f\"\\nEsto es una lista: {lista}.\", \n",
    "      f\"\\nEl primer elemento de la lista es: {lista[0]}.\", \n",
    "      f\"\\nEl tipo de dato de esta lista es: {type(lista)}.\", \n",
    "      f\"\\nEl tercer elemento de la lista sumado con el séptimo elemento de la lista es: {lista[2]+lista[6]}.\")"
   ]
  },
  {
   "cell_type": "markdown",
   "metadata": {},
   "source": [
    "### $np.array()$\n",
    "Transforma una lista $l$ a un array.\n",
    "$$np.array(l)$$"
   ]
  },
  {
   "cell_type": "code",
   "execution_count": 3,
   "metadata": {},
   "outputs": [
    {
     "name": "stdout",
     "output_type": "stream",
     "text": [
      "\n",
      "Esto es un array creado usando numpy: [1 2 3 4 5 6 7 8 9]. \n",
      "El primer elemento del array es : 1, y el último elemento es: 9. \n",
      "El tipo de dato del array es : <class 'numpy.ndarray'>. \n",
      "El primer elemento del array sumado con el sexto es: 7. \n",
      "Un nuevo array que va desde el segundo elemento hasta es sexto es: [2 3 4 5 6]. \n",
      "Un nuevo array que va desde el primer elemento hasta es quinto es: [1 2 3 4 5]. \n",
      "Un nuevo array que va desde el tercer elemento hasta el último elemento del array es: [4 5 6 7 8 9].\n",
      "Un nuevo array creado a partir del primero que va tomando elementos de tres en tres: [1 4 7].\n",
      "Un nuevo array que consta de los cuatro últimos elementos del original: [6 7 8 9].\n"
     ]
    }
   ],
   "source": [
    "arr = np.array(lista)\n",
    "print(f\"\\nEsto es un array creado usando numpy: {arr}.\", \n",
    "      f\"\\nEl primer elemento del array es : {arr[0]}, y el último elemento es: {arr[-1]}.\", \n",
    "      f\"\\nEl tipo de dato del array es : {type(arr)}.\", \n",
    "      f\"\\nEl primer elemento del array sumado con el sexto es: {arr[0]+arr[5]}.\", \n",
    "      f\"\\nUn nuevo array que va desde el segundo elemento hasta es sexto es: {arr[1:6]}.\", \n",
    "      f\"\\nUn nuevo array que va desde el primer elemento hasta es quinto es: {arr[:5]}.\", \n",
    "      f\"\\nUn nuevo array que va desde el tercer elemento hasta el último elemento del array es: {arr[3:]}.\"\n",
    "      f\"\\nUn nuevo array creado a partir del primero que va tomando elementos de tres en tres: {arr[::3]}.\"\n",
    "      f\"\\nUn nuevo array que consta de los cuatro últimos elementos del original: {arr[-4:]}.\")"
   ]
  },
  {
   "cell_type": "markdown",
   "metadata": {},
   "source": [
    "### Podemos crear matrices con numpy"
   ]
  },
  {
   "cell_type": "code",
   "execution_count": 5,
   "metadata": {},
   "outputs": [
    {
     "name": "stdout",
     "output_type": "stream",
     "text": [
      "\n",
      "Esto es una lista que contiene listas: [[1, 0], [0, -1]]. \n",
      "El primer elemento de esta lista es: [1, 0]. \n",
      "El tipo de dato de esta lista es : <class 'list'>. \n",
      "Sumar los dos elementos de la lista genera una lista que encadena estos dos elementos: [1, 0, 0, -1].\n"
     ]
    }
   ],
   "source": [
    "matriz = [[1,0],[0,-1]]\n",
    "print(f\"\\nEsto es una lista que contiene listas: {matriz}.\", \n",
    "      f\"\\nEl primer elemento de esta lista es: {matriz[0]}.\", \n",
    "      f\"\\nEl tipo de dato de esta lista es : {type(matriz)}.\", \n",
    "      f\"\\nSumar los dos elementos de la lista genera una lista que encadena estos dos elementos: {matriz[0]+matriz[1]}.\")"
   ]
  },
  {
   "cell_type": "code",
   "execution_count": 6,
   "metadata": {},
   "outputs": [
    {
     "name": "stdout",
     "output_type": "stream",
     "text": [
      "\n",
      "Esto es una matriz creada con numpy: \n",
      "[[ 1  0]\n",
      " [ 0 -1]]. \n",
      "La primera fila de esta matriz es: [1 0]. \n",
      "El tipo de dato de la matriz es: <class 'numpy.ndarray'>. \n",
      "La suma de la primera fila con la segunda fila es: [ 1 -1].\n"
     ]
    }
   ],
   "source": [
    "npmatriz = np.array(matriz)\n",
    "print(f\"\\nEsto es una matriz creada con numpy: \\n{npmatriz}.\", \n",
    "      f\"\\nLa primera fila de esta matriz es: {npmatriz[0]}.\", \n",
    "      f\"\\nEl tipo de dato de la matriz es: {type(npmatriz)}.\", \n",
    "      f\"\\nLa suma de la primera fila con la segunda fila es: {npmatriz[0]+npmatriz[1]}.\")"
   ]
  },
  {
   "cell_type": "code",
   "execution_count": 7,
   "metadata": {},
   "outputs": [
    {
     "name": "stdout",
     "output_type": "stream",
     "text": [
      "\n",
      "Esto es una matriz de 3x3: \n",
      "[[1 2 3]\n",
      " [4 5 6]\n",
      " [7 8 9]].\n",
      "Una matriz que contiene las dos últimas filas de la primera: \n",
      "[[4 5 6]\n",
      " [7 8 9]]\n",
      "Una matriz de 2x2 que contiene las dos primeras columnas de las dos últimas filas: \n",
      "[[4 5]\n",
      " [7 8]]\n",
      "\n"
     ]
    }
   ],
   "source": [
    "mat = [[1,2,3],[4,5,6],[7,8,9]]\n",
    "npmat = np.array(mat)\n",
    "print(f\"\\nEsto es una matriz de 3x3: \\n{npmat}.\"\n",
    "      f\"\\nUna matriz que contiene las dos últimas filas de la primera: \\n{npmat[1:]}\"\n",
    "      f\"\\nUna matriz de 2x2 que contiene las dos primeras columnas de las dos últimas filas: \\n{npmat[1:,0:2]}\\n\")"
   ]
  }
 ],
 "metadata": {
  "kernelspec": {
   "display_name": "Python 3",
   "language": "python",
   "name": "python3"
  },
  "language_info": {
   "codemirror_mode": {
    "name": "ipython",
    "version": 3
   },
   "file_extension": ".py",
   "mimetype": "text/x-python",
   "name": "python",
   "nbconvert_exporter": "python",
   "pygments_lexer": "ipython3",
   "version": "3.10.12"
  },
  "orig_nbformat": 4
 },
 "nbformat": 4,
 "nbformat_minor": 2
}
