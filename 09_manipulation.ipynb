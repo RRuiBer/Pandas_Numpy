{
 "cells": [
  {
   "cell_type": "markdown",
   "metadata": {},
   "source": [
    "## Manipulación de arrays"
   ]
  },
  {
   "cell_type": "markdown",
   "metadata": {},
   "source": [
    "#### Entorno de ejecución"
   ]
  },
  {
   "cell_type": "code",
   "execution_count": 16,
   "metadata": {},
   "outputs": [],
   "source": [
    "import numpy as np"
   ]
  },
  {
   "cell_type": "code",
   "execution_count": 17,
   "metadata": {},
   "outputs": [
    {
     "name": "stdout",
     "output_type": "stream",
     "text": [
      "[[[1 1 2]\n",
      "  [1 1 2]]\n",
      "\n",
      " [[3 3 1]\n",
      "  [1 3 2]]\n",
      "\n",
      " [[1 3 2]\n",
      "  [3 3 4]]]\n"
     ]
    }
   ],
   "source": [
    "tensor = np.random.randint(1,5,(3,2,3))\n",
    "print(tensor)"
   ]
  },
  {
   "cell_type": "markdown",
   "metadata": {},
   "source": [
    "### ravel()\n",
    "Reordena un array a uno de dimensión cero."
   ]
  },
  {
   "cell_type": "code",
   "execution_count": 18,
   "metadata": {},
   "outputs": [
    {
     "name": "stdout",
     "output_type": "stream",
     "text": [
      "[[[1 1 2]\n",
      "  [1 1 2]]\n",
      "\n",
      " [[3 3 1]\n",
      "  [1 3 2]]\n",
      "\n",
      " [[1 3 2]\n",
      "  [3 3 4]]] [1 1 2 1 1 2 3 3 1 1 3 2 1 3 2 3 3 4]\n"
     ]
    }
   ],
   "source": [
    "vector = tensor.copy()\n",
    "vector = vector.ravel()\n",
    "print(tensor, vector)"
   ]
  },
  {
   "cell_type": "markdown",
   "metadata": {},
   "source": [
    "### split()\n",
    "Divide un array de dimensión uno en varios arrays con un mismo numero de elementos."
   ]
  },
  {
   "cell_type": "code",
   "execution_count": 19,
   "metadata": {},
   "outputs": [
    {
     "name": "stdout",
     "output_type": "stream",
     "text": [
      "[ 8  7  5  7 12 13 12 11 16  5 15 14 17 15 10 18  8  8 16 14]\n",
      "[array([ 8,  7,  5,  7, 12, 13, 12, 11, 16,  5]), array([15, 14, 17, 15, 10, 18,  8,  8, 16, 14])]\n",
      "[array([ 8,  7,  5,  7, 12]), array([13, 12, 11, 16,  5]), array([15, 14, 17, 15, 10]), array([18,  8,  8, 16, 14])]\n"
     ]
    }
   ],
   "source": [
    "array = np.random.randint(5,20,20)\n",
    "print(array)\n",
    "matriz_split = np.split(array, 2)\n",
    "print(matriz_split)\n",
    "matriz_split = np.split(array, 4)\n",
    "print(matriz_split)"
   ]
  },
  {
   "cell_type": "markdown",
   "metadata": {},
   "source": [
    "### insert()\n",
    "Añade elementos al array"
   ]
  },
  {
   "cell_type": "markdown",
   "metadata": {},
   "source": [
    "$$np.insert(arreglo,\\ posición,\\ valores)$$"
   ]
  },
  {
   "cell_type": "code",
   "execution_count": 20,
   "metadata": {},
   "outputs": [
    {
     "name": "stdout",
     "output_type": "stream",
     "text": [
      "[ 8  7  5  7 12 13 12 11 16  5  1  0  1 15 14 17 15 10 18  8  8 16 14]\n"
     ]
    }
   ],
   "source": [
    "array = np.insert(array,obj=10,values=[1,0,1])\n",
    "print(array)"
   ]
  },
  {
   "cell_type": "markdown",
   "metadata": {},
   "source": [
    "### append()\n",
    "Añade elementos al final del array"
   ]
  },
  {
   "cell_type": "markdown",
   "metadata": {},
   "source": [
    "$$np.append(arreglo,\\ valores)$$"
   ]
  },
  {
   "cell_type": "code",
   "execution_count": 21,
   "metadata": {},
   "outputs": [
    {
     "name": "stdout",
     "output_type": "stream",
     "text": [
      "[ 8  7  5  7 12 13 12 11 16  5  1  0  1 15 14 17 15 10 18  8  8 16 14 -1\n",
      "  0  1]\n"
     ]
    }
   ],
   "source": [
    "array = np.append(array, [-1,0,1])\n",
    "print(array)"
   ]
  },
  {
   "cell_type": "markdown",
   "metadata": {},
   "source": [
    "### delete()\n",
    "Elimina elementos del arreglo según su posición."
   ]
  },
  {
   "cell_type": "markdown",
   "metadata": {},
   "source": [
    "$$np.delete(arreglo,\\ obj\\ =\\ posición)$$"
   ]
  },
  {
   "cell_type": "code",
   "execution_count": 22,
   "metadata": {},
   "outputs": [
    {
     "name": "stdout",
     "output_type": "stream",
     "text": [
      "[ 8  7  5  7 12 13 12 11 16  5  1  0  1 15 14 17 15 10 18  8  8 16 14 -1\n",
      "  1]\n"
     ]
    }
   ],
   "source": [
    "array = np.delete(array,obj=-2)\n",
    "print(array)"
   ]
  }
 ],
 "metadata": {
  "kernelspec": {
   "display_name": "Python 3",
   "language": "python",
   "name": "python3"
  },
  "language_info": {
   "codemirror_mode": {
    "name": "ipython",
    "version": 3
   },
   "file_extension": ".py",
   "mimetype": "text/x-python",
   "name": "python",
   "nbconvert_exporter": "python",
   "pygments_lexer": "ipython3",
   "version": "3.10.12"
  },
  "orig_nbformat": 4
 },
 "nbformat": 4,
 "nbformat_minor": 2
}
