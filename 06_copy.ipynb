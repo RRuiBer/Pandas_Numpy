{
 "cells": [
  {
   "cell_type": "markdown",
   "metadata": {},
   "source": [
    "## Copy"
   ]
  },
  {
   "cell_type": "markdown",
   "metadata": {},
   "source": [
    "### Entorno de trabajo"
   ]
  },
  {
   "cell_type": "code",
   "execution_count": 45,
   "metadata": {},
   "outputs": [],
   "source": [
    "import numpy as np"
   ]
  },
  {
   "cell_type": "markdown",
   "metadata": {},
   "source": [
    "Definimos un arreglo"
   ]
  },
  {
   "cell_type": "code",
   "execution_count": 46,
   "metadata": {},
   "outputs": [
    {
     "name": "stdout",
     "output_type": "stream",
     "text": [
      "[[ 5 19  8 20 10]\n",
      " [ 6 15  7  9 24]\n",
      " [23  5 20  6 15]\n",
      " [18 11  6 17  9]\n",
      " [22 16 16 23  5]]\n"
     ]
    }
   ],
   "source": [
    "matriz = np.random.randint(5,25,(5,5))\n",
    "print(matriz)"
   ]
  },
  {
   "cell_type": "code",
   "execution_count": 50,
   "metadata": {},
   "outputs": [
    {
     "name": "stdout",
     "output_type": "stream",
     "text": [
      "[[ 7 15  8  6 18]\n",
      " [ 7  7 13 21 10]\n",
      " [18 13  6 23 21]\n",
      " [10 21 13 24 15]\n",
      " [14 19  6 19 14]]\n"
     ]
    }
   ],
   "source": [
    "matriz2 = np.random.randint(5,25,(5,5))\n",
    "print(matriz2)"
   ]
  },
  {
   "cell_type": "markdown",
   "metadata": {},
   "source": [
    "También definimos un nuevo arreglo partiendo elementos del primero:"
   ]
  },
  {
   "cell_type": "code",
   "execution_count": 47,
   "metadata": {},
   "outputs": [
    {
     "name": "stdout",
     "output_type": "stream",
     "text": [
      "[[ 5 19  8]\n",
      " [ 6 15  7]\n",
      " [23  5 20]]\n"
     ]
    }
   ],
   "source": [
    "submatriz = matriz[0:3,0:3]\n",
    "print(submatriz)"
   ]
  },
  {
   "cell_type": "markdown",
   "metadata": {},
   "source": [
    "Si modificamos el nuevo arreglo aun que se le ha asignado a una nueva variable:"
   ]
  },
  {
   "cell_type": "code",
   "execution_count": 48,
   "metadata": {},
   "outputs": [
    {
     "name": "stdout",
     "output_type": "stream",
     "text": [
      "[[0 0 0]\n",
      " [0 0 0]\n",
      " [0 0 0]]\n"
     ]
    }
   ],
   "source": [
    "submatriz[:] = 0\n",
    "print(submatriz)"
   ]
  },
  {
   "cell_type": "markdown",
   "metadata": {},
   "source": [
    "Se modifica el arreglo original:"
   ]
  },
  {
   "cell_type": "code",
   "execution_count": 49,
   "metadata": {},
   "outputs": [
    {
     "name": "stdout",
     "output_type": "stream",
     "text": [
      "[[ 0  0  0 20 10]\n",
      " [ 0  0  0  9 24]\n",
      " [ 0  0  0  6 15]\n",
      " [18 11  6 17  9]\n",
      " [22 16 16 23  5]]\n"
     ]
    }
   ],
   "source": [
    "print(matriz)"
   ]
  },
  {
   "cell_type": "markdown",
   "metadata": {},
   "source": [
    "#### copy()"
   ]
  },
  {
   "cell_type": "markdown",
   "metadata": {},
   "source": [
    "Para evitar modificar el objeto original podemos hacer una copia con el contenido del arreglo de nuestro interés."
   ]
  },
  {
   "cell_type": "code",
   "execution_count": 55,
   "metadata": {},
   "outputs": [
    {
     "name": "stdout",
     "output_type": "stream",
     "text": [
      "[[ 7 15  8]\n",
      " [ 7  7 13]\n",
      " [18 13  6]]\n"
     ]
    }
   ],
   "source": [
    "submatriz2 = matriz2.copy()\n",
    "submatriz2 = submatriz2[0:3,0:3]\n",
    "print(submatriz2)"
   ]
  },
  {
   "cell_type": "code",
   "execution_count": 57,
   "metadata": {},
   "outputs": [
    {
     "name": "stdout",
     "output_type": "stream",
     "text": [
      "[[1 1 1]\n",
      " [1 1 1]\n",
      " [1 1 1]]\n",
      "La matriz \n",
      "[[ 7 15  8  6 18]\n",
      " [ 7  7 13 21 10]\n",
      " [18 13  6 23 21]\n",
      " [10 21 13 24 15]\n",
      " [14 19  6 19 14]]\n",
      "con la que fue generada la matriz anterior no se modifica si se trabaja con una copia.\n"
     ]
    }
   ],
   "source": [
    "submatriz2[:] = 1\n",
    "print(submatriz2)\n",
    "print(f\"La matriz \\n{matriz2}\\ncon la que fue generada la matriz anterior no se modifica si se trabaja con una copia.\")"
   ]
  },
  {
   "cell_type": "markdown",
   "metadata": {},
   "source": [
    "## Para evitar perder información hay que usar el comando copy()"
   ]
  }
 ],
 "metadata": {
  "kernelspec": {
   "display_name": "Python 3",
   "language": "python",
   "name": "python3"
  },
  "language_info": {
   "codemirror_mode": {
    "name": "ipython",
    "version": 3
   },
   "file_extension": ".py",
   "mimetype": "text/x-python",
   "name": "python",
   "nbconvert_exporter": "python",
   "pygments_lexer": "ipython3",
   "version": "3.10.12"
  },
  "orig_nbformat": 4
 },
 "nbformat": 4,
 "nbformat_minor": 2
}
