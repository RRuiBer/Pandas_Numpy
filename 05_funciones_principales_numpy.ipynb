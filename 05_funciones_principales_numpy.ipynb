{
 "cells": [
  {
   "cell_type": "markdown",
   "metadata": {},
   "source": [
    "## Funciones principales de NumPy"
   ]
  },
  {
   "cell_type": "markdown",
   "metadata": {},
   "source": [
    "### Entorno de trabajo:"
   ]
  },
  {
   "cell_type": "code",
   "execution_count": 37,
   "metadata": {},
   "outputs": [],
   "source": [
    "import numpy as np"
   ]
  },
  {
   "cell_type": "code",
   "execution_count": 38,
   "metadata": {},
   "outputs": [
    {
     "name": "stdout",
     "output_type": "stream",
     "text": [
      "[22 14 20 18  8 12 21 15 20  5  9  5]\n"
     ]
    }
   ],
   "source": [
    "vector = np.random.randint(5,25,12)\n",
    "print(vector)"
   ]
  },
  {
   "cell_type": "markdown",
   "metadata": {},
   "source": [
    "Definimos una matriz $M$ partiendo del vector anterior:"
   ]
  },
  {
   "cell_type": "code",
   "execution_count": 39,
   "metadata": {},
   "outputs": [
    {
     "name": "stdout",
     "output_type": "stream",
     "text": [
      "[[22 14 20 18]\n",
      " [ 8 12 21 15]\n",
      " [20  5  9  5]]\n"
     ]
    }
   ],
   "source": [
    "matriz = vector.reshape(3,4)\n",
    "print(matriz)"
   ]
  },
  {
   "cell_type": "markdown",
   "metadata": {},
   "source": [
    "Una segunda matriz $M2$"
   ]
  },
  {
   "cell_type": "code",
   "execution_count": 81,
   "metadata": {},
   "outputs": [
    {
     "name": "stdout",
     "output_type": "stream",
     "text": [
      "[[19 12 17 11]\n",
      " [15 15 12 19]\n",
      " [12 11 13 10]]\n"
     ]
    }
   ],
   "source": [
    "matriz2 = np.random.randint(10,20,(3,4))\n",
    "print(matriz2)"
   ]
  },
  {
   "cell_type": "markdown",
   "metadata": {},
   "source": [
    "### El máximo"
   ]
  },
  {
   "cell_type": "markdown",
   "metadata": {},
   "source": [
    "#### max()\n",
    "El valor máximo"
   ]
  },
  {
   "cell_type": "markdown",
   "metadata": {},
   "source": [
    "Obtener el elemento mayor de un array:$$arreglo.max()$$"
   ]
  },
  {
   "cell_type": "code",
   "execution_count": 40,
   "metadata": {},
   "outputs": [
    {
     "name": "stdout",
     "output_type": "stream",
     "text": [
      "22\n"
     ]
    }
   ],
   "source": [
    "max = matriz.max()\n",
    "print(max)"
   ]
  },
  {
   "cell_type": "markdown",
   "metadata": {},
   "source": [
    "En el eje 0 encontramos las columnas y el eje 1 las filas."
   ]
  },
  {
   "cell_type": "markdown",
   "metadata": {},
   "source": [
    "Podemos obtener los máximos de cada eje, es decir, los máximos de cada fila o de cada columna especificando el eje de interés: $$arreglo.max(\\,i\\,) \\hspace{0.4 cm} i = 0, 1 \\hspace{0.1 cm} (\\,\\text{0 y 1 son los ejes}\\,).$$"
   ]
  },
  {
   "cell_type": "code",
   "execution_count": 41,
   "metadata": {},
   "outputs": [
    {
     "name": "stdout",
     "output_type": "stream",
     "text": [
      "Un arreglo con los valores máximos de cada columna de la matriz M: [22 14 21 18].\n",
      "Un arreglo con los valores máximos de cada fila de la matriz M: [22 14 21 18].\n"
     ]
    }
   ],
   "source": [
    "print(f\"Un arreglo con los valores máximos de cada columna de la matriz M: {matriz.max(0)}.\")\n",
    "print(f\"Un arreglo con los valores máximos de cada fila de la matriz M: {matriz.max(0)}.\")"
   ]
  },
  {
   "cell_type": "markdown",
   "metadata": {},
   "source": [
    "#### argmax()\n",
    "El índice del valor máximo"
   ]
  },
  {
   "cell_type": "markdown",
   "metadata": {},
   "source": [
    "Podemos obtener el índice del máximo elemento de un arreglo, el indice recorre las filas de izquierda a derecha y de arriba hacia abajo: $$arreglo.argmax()$$"
   ]
  },
  {
   "cell_type": "code",
   "execution_count": 42,
   "metadata": {},
   "outputs": [
    {
     "name": "stdout",
     "output_type": "stream",
     "text": [
      "0\n"
     ]
    }
   ],
   "source": [
    "print(matriz.argmax())"
   ]
  },
  {
   "cell_type": "markdown",
   "metadata": {},
   "source": [
    "Podemos obtener el índice del máximo de cada fila o columna especificando el eje a analizar: $$arreglo.argmax(\\,i\\,) \\hspace{0.4 cm} i = 0, 1 \\hspace{0.1 cm} (\\,\\text{0 y 1 son los ejes}\\,).$$"
   ]
  },
  {
   "cell_type": "code",
   "execution_count": 43,
   "metadata": {},
   "outputs": [
    {
     "name": "stdout",
     "output_type": "stream",
     "text": [
      "Un arreglo con el índice del máximo de cada columna de la matriz: [0 0 1 0]\n",
      "Un arreglo con el índice del máximo de cada fila de la matriz: [0 2 0]\n"
     ]
    }
   ],
   "source": [
    "print(\"Un arreglo con el índice del máximo de cada columna de la matriz:\", matriz.argmax(0))\n",
    "print(\"Un arreglo con el índice del máximo de cada fila de la matriz:\", matriz.argmax(1))"
   ]
  },
  {
   "cell_type": "markdown",
   "metadata": {},
   "source": [
    "### El mínimo"
   ]
  },
  {
   "cell_type": "markdown",
   "metadata": {},
   "source": [
    "#### min()\n",
    "Nos da el valor mínimo."
   ]
  },
  {
   "cell_type": "markdown",
   "metadata": {},
   "source": [
    "Obtener el elemento menor de un array:$$arreglo.min()$$"
   ]
  },
  {
   "cell_type": "code",
   "execution_count": 44,
   "metadata": {},
   "outputs": [
    {
     "name": "stdout",
     "output_type": "stream",
     "text": [
      "5\n"
     ]
    }
   ],
   "source": [
    "print(matriz.min())"
   ]
  },
  {
   "cell_type": "markdown",
   "metadata": {},
   "source": [
    "Podemos obtener los mínimos de cada eje, es decir, los mínimos de cada fila o de cada columna especificando el eje de interés: $$arreglo.min(\\,i\\,) \\hspace{0.4 cm} i = 0, 1 \\hspace{0.1 cm} (\\,\\text{0 y 1 son los ejes}\\,).$$"
   ]
  },
  {
   "cell_type": "code",
   "execution_count": 45,
   "metadata": {},
   "outputs": [
    {
     "name": "stdout",
     "output_type": "stream",
     "text": [
      "Un arreglo con los valores mínimos de cada columna de la matriz M: [8 5 9 5].\n",
      "Un arreglo con los valores mínimos de cada fila de la matriz M: [14  8  5].\n"
     ]
    }
   ],
   "source": [
    "print(f\"Un arreglo con los valores mínimos de cada columna de la matriz M: {matriz.min(0)}.\")\n",
    "print(f\"Un arreglo con los valores mínimos de cada fila de la matriz M: {matriz.min(1)}.\")"
   ]
  },
  {
   "cell_type": "markdown",
   "metadata": {},
   "source": [
    "#### argmin()\n",
    "Nos da el índice del valor mínimo."
   ]
  },
  {
   "cell_type": "markdown",
   "metadata": {},
   "source": [
    "Podemos obtener el índice del menor elemento de un arreglo: $$arreglo.argmin()$$"
   ]
  },
  {
   "cell_type": "code",
   "execution_count": 46,
   "metadata": {},
   "outputs": [
    {
     "name": "stdout",
     "output_type": "stream",
     "text": [
      "9\n"
     ]
    }
   ],
   "source": [
    "print(matriz.argmin())"
   ]
  },
  {
   "cell_type": "markdown",
   "metadata": {},
   "source": [
    "Podemos obtener el índice del mínimo de cada fila o columna especificando el eje a analizar: $$arreglo.argmin(\\,i\\,) \\hspace{0.4 cm} i = 0, 1 \\hspace{0.1 cm} (\\,\\text{0 y 1 son los ejes}\\,).$$"
   ]
  },
  {
   "cell_type": "code",
   "execution_count": 47,
   "metadata": {},
   "outputs": [
    {
     "name": "stdout",
     "output_type": "stream",
     "text": [
      "Un arreglo con el índice del mínimo de cada columna de la matriz: [1 2 2 2]\n",
      "Un arreglo con el índice del mínimo de cada fila de la matriz: [1 0 1]\n"
     ]
    }
   ],
   "source": [
    "print(\"Un arreglo con el índice del mínimo de cada columna de la matriz:\", matriz.argmin(0))\n",
    "print(\"Un arreglo con el índice del mínimo de cada fila de la matriz:\", matriz.argmin(1))"
   ]
  },
  {
   "cell_type": "markdown",
   "metadata": {},
   "source": [
    "### El rango\n",
    "Podemos obtener la diferencia entre el máximo y el mínimo."
   ]
  },
  {
   "cell_type": "markdown",
   "metadata": {},
   "source": [
    "#### ptp()"
   ]
  },
  {
   "cell_type": "markdown",
   "metadata": {},
   "source": [
    "Obtener rango un array (función $\\text{peak to peak}$):$$arreglo.ptp()$$"
   ]
  },
  {
   "cell_type": "code",
   "execution_count": 48,
   "metadata": {},
   "outputs": [
    {
     "name": "stdout",
     "output_type": "stream",
     "text": [
      "17\n"
     ]
    }
   ],
   "source": [
    "print(matriz.ptp())"
   ]
  },
  {
   "cell_type": "markdown",
   "metadata": {},
   "source": [
    "Podemos obtener el rango en cada eje, es decir, el ragno de valores en cada fila o cada columna especificando el eje de interés: $$arreglo.ptp(\\,i\\,) \\hspace{0.4 cm} i = 0, 1 \\hspace{0.1 cm} (\\,\\text{0 y 1 son los ejes}\\,).$$"
   ]
  },
  {
   "cell_type": "code",
   "execution_count": 49,
   "metadata": {},
   "outputs": [
    {
     "name": "stdout",
     "output_type": "stream",
     "text": [
      "Un arreglo con el rango de valores en cada columna de la matriz M: [8 5 9 5].\n",
      "Un arreglo con el rango de valores en cada fila de la matriz M: [14  8  5].\n"
     ]
    }
   ],
   "source": [
    "print(f\"Un arreglo con el rango de valores en cada columna de la matriz M: {matriz.min(0)}.\")\n",
    "print(f\"Un arreglo con el rango de valores en cada fila de la matriz M: {matriz.min(1)}.\")"
   ]
  },
  {
   "cell_type": "markdown",
   "metadata": {},
   "source": [
    "### El percentil\n",
    "Los percentiles indican el porcentaje de puntuaciones que caen por debajo de cierto valor."
   ]
  },
  {
   "cell_type": "markdown",
   "metadata": {},
   "source": [
    "#### np.percentile()"
   ]
  },
  {
   "cell_type": "markdown",
   "metadata": {},
   "source": [
    "Del rango de valores del arreglo, lo divide en 100 y toma el percentil $i$ indicado entre el a al 100: $$np.percentile(arreglo,i_{percentil})$$"
   ]
  },
  {
   "cell_type": "code",
   "execution_count": 50,
   "metadata": {},
   "outputs": [
    {
     "name": "stdout",
     "output_type": "stream",
     "text": [
      "[ 5.    5.    5.    5.    5.    5.    5.    5.    5.    5.    5.3   5.63\n",
      "  5.96  6.29  6.62  6.95  7.28  7.61  7.94  8.09  8.2   8.31  8.42  8.53\n",
      "  8.64  8.75  8.86  8.97  9.24  9.57  9.9  10.23 10.56 10.89 11.22 11.55\n",
      " 11.88 12.14 12.36 12.58 12.8  13.02 13.24 13.46 13.68 13.9  14.06 14.17\n",
      " 14.28 14.39 14.5  14.61 14.72 14.83 14.94 15.15 15.48 15.81 16.14 16.47\n",
      " 16.8  17.13 17.46 17.79 18.08 18.3  18.52 18.74 18.96 19.18 19.4  19.62\n",
      " 19.84 20.   20.   20.   20.   20.   20.   20.   20.   20.   20.02 20.13\n",
      " 20.24 20.35 20.46 20.57 20.68 20.79 20.9  21.01 21.12 21.23 21.34 21.45\n",
      " 21.56 21.67 21.78 21.89 22.  ]\n"
     ]
    }
   ],
   "source": [
    "percentiles = []\n",
    "for i in range(101):\n",
    "    percentiles.append(np.percentile(matriz,i))\n",
    "print(np.array(percentiles))"
   ]
  },
  {
   "cell_type": "markdown",
   "metadata": {},
   "source": [
    "### La media"
   ]
  },
  {
   "cell_type": "markdown",
   "metadata": {},
   "source": [
    "#### np.mean()"
   ]
  },
  {
   "cell_type": "markdown",
   "metadata": {},
   "source": [
    "Podemos calcular la media de los valores de un arreglo: $$media = np.mean(arreglo)$$"
   ]
  },
  {
   "cell_type": "code",
   "execution_count": 76,
   "metadata": {},
   "outputs": [
    {
     "name": "stdout",
     "output_type": "stream",
     "text": [
      "14.083333333333334\n",
      "[12.33333333 13.         14.66666667 16.33333333]\n",
      "[ 6.75 14.75 20.75]\n"
     ]
    }
   ],
   "source": [
    "print(np.mean(matriz)) # la media de todo el arreglo\n",
    "print(np.mean(matriz,0)) # la media por cada columna\n",
    "print(np.mean(matriz,1)) # la media por cada fila"
   ]
  },
  {
   "cell_type": "markdown",
   "metadata": {},
   "source": [
    "### La mediana"
   ]
  },
  {
   "cell_type": "markdown",
   "metadata": {},
   "source": [
    "#### np.median()"
   ]
  },
  {
   "cell_type": "markdown",
   "metadata": {},
   "source": [
    "Podemos calcular la mediana de los valores de un arreglo: $$medians = np.median(arreglo)$$"
   ]
  },
  {
   "cell_type": "code",
   "execution_count": 59,
   "metadata": {},
   "outputs": [
    {
     "name": "stdout",
     "output_type": "stream",
     "text": [
      "14.5\n"
     ]
    }
   ],
   "source": [
    "print(np.median(matriz))"
   ]
  },
  {
   "cell_type": "markdown",
   "metadata": {},
   "source": [
    "Podemos obtener la mediana de cada fila o columna especificando el eje a analizar: $$np.median(arreglo, \\ i) \\hspace{0.4 cm} i = 0, 1 \\hspace{0.1 cm} (\\,\\text{0 y 1 son los ejes}\\,).$$"
   ]
  },
  {
   "cell_type": "code",
   "execution_count": 75,
   "metadata": {},
   "outputs": [
    {
     "name": "stdout",
     "output_type": "stream",
     "text": [
      "Un arreglo con la mediana de cada columna de la matriz M: [12. 14. 15. 18.].\n",
      "Un arreglo con la mediana de cada fila de la matriz M: [ 6.5 14.5 20.5].\n"
     ]
    }
   ],
   "source": [
    "print(f\"Un arreglo con la mediana de cada columna de la matriz M: {np.median(matriz,0)}.\")\n",
    "print(f\"Un arreglo con la mediana de cada fila de la matriz M: {np.median(matriz,1)}.\")"
   ]
  },
  {
   "cell_type": "markdown",
   "metadata": {},
   "source": [
    "### Desviación estándar\n",
    "La desviación estándar se utiliza para calcular la variación o dispersión en la que los puntos de datos individuales difieren de la media. "
   ]
  },
  {
   "cell_type": "markdown",
   "metadata": {},
   "source": [
    "#### np.std()"
   ]
  },
  {
   "cell_type": "markdown",
   "metadata": {},
   "source": [
    "Podemos calcular la desviación estándar de los datos de un array:\n",
    "$$\\text{desviación estándar} = np.std(arreglo)$$"
   ]
  },
  {
   "cell_type": "code",
   "execution_count": 63,
   "metadata": {},
   "outputs": [
    {
     "name": "stdout",
     "output_type": "stream",
     "text": [
      "5.97854961972848\n",
      "[6.18241233 3.8586123  5.43650214 5.55777733]\n",
      "[2.95803989 4.74341649 6.13901458]\n"
     ]
    }
   ],
   "source": [
    "print(np.std(matriz)) # la desviación estándar de todo el arreglo\n",
    "print(np.std(matriz,0)) # la desviación estándar por cada columna\n",
    "print(np.std(matriz,1)) # la desviación estándar por cada fila"
   ]
  },
  {
   "cell_type": "markdown",
   "metadata": {},
   "source": [
    "### La varianza"
   ]
  },
  {
   "cell_type": "markdown",
   "metadata": {},
   "source": [
    "La varianza es una medida de dispersión que representa la variabilidad de una serie de datos con respecto a su media. "
   ]
  },
  {
   "cell_type": "markdown",
   "metadata": {},
   "source": [
    "#### np.var()"
   ]
  },
  {
   "cell_type": "code",
   "execution_count": 64,
   "metadata": {},
   "outputs": [
    {
     "name": "stdout",
     "output_type": "stream",
     "text": [
      "35.74305555555555\n",
      "[38.22222222 14.88888889 29.55555556 30.88888889]\n",
      "[ 8.75   22.5    37.6875]\n"
     ]
    }
   ],
   "source": [
    "print(np.var(matriz)) # la varianza de todo el arreglo\n",
    "print(np.var(matriz,0)) # la varianza estándar por cada columna\n",
    "print(np.var(matriz,1)) # la varianza estándar por cada fila"
   ]
  },
  {
   "cell_type": "markdown",
   "metadata": {},
   "source": [
    "### Concatenar"
   ]
  },
  {
   "cell_type": "markdown",
   "metadata": {},
   "source": [
    "#### np.concatenate()"
   ]
  },
  {
   "cell_type": "markdown",
   "metadata": {},
   "source": [
    "Podemos concatenar arreglos: $$\\text{nuevo arreglo} = np.concatenate((arreglo1,\\ arreglo2))$$"
   ]
  },
  {
   "cell_type": "code",
   "execution_count": 84,
   "metadata": {},
   "outputs": [
    {
     "name": "stdout",
     "output_type": "stream",
     "text": [
      "[[ 5  5  8  9]\n",
      " [12 14 15 18]\n",
      " [20 20 21 22]\n",
      " [19 12 17 11]\n",
      " [15 15 12 19]\n",
      " [12 11 13 10]] (6, 4)\n"
     ]
    }
   ],
   "source": [
    "matriz3 = np.concatenate((matriz,matriz2))\n",
    "print(matriz3,np.shape(matriz3))"
   ]
  },
  {
   "cell_type": "markdown",
   "metadata": {},
   "source": [
    "Podemos concatenar arreglos según su eje (eje 0 agrega filas y eje 1 agrega columnas): $$\\text{nuevo arreglo} = np.concatenate((arreglo1,\\ arreglo2),axis=i) \\hspace{0.3 cm} i  = 0,\\ 1.$$"
   ]
  },
  {
   "cell_type": "code",
   "execution_count": 93,
   "metadata": {},
   "outputs": [
    {
     "name": "stdout",
     "output_type": "stream",
     "text": [
      "[[ 5  5  8  9]\n",
      " [12 14 15 18]\n",
      " [20 20 21 22]\n",
      " [19 12 17 11]\n",
      " [15 15 12 19]\n",
      " [12 11 13 10]] (6, 4)\n",
      "[[ 5  5  8  9 19 12 17 11]\n",
      " [12 14 15 18 15 15 12 19]\n",
      " [20 20 21 22 12 11 13 10]] (3, 8)\n"
     ]
    }
   ],
   "source": [
    "matriz4 = np.concatenate((matriz,matriz2),axis=0)\n",
    "print(matriz4,np.shape(matriz4))\n",
    "matriz5 = np.concatenate((matriz,matriz2),axis=1)\n",
    "print(matriz5,np.shape(matriz5))\n"
   ]
  },
  {
   "cell_type": "markdown",
   "metadata": {},
   "source": [
    "### La transpuesta"
   ]
  },
  {
   "cell_type": "markdown",
   "metadata": {},
   "source": [
    "### .T"
   ]
  },
  {
   "cell_type": "markdown",
   "metadata": {},
   "source": [
    "Para obtener la matriz transpuesta:"
   ]
  },
  {
   "cell_type": "code",
   "execution_count": 98,
   "metadata": {},
   "outputs": [
    {
     "name": "stdout",
     "output_type": "stream",
     "text": [
      "[[ 5 12 20 19 15 12]\n",
      " [ 5 14 20 12 15 11]\n",
      " [ 8 15 21 17 12 13]\n",
      " [ 9 18 22 11 19 10]] (4, 6)\n",
      "[[ 5 12 20]\n",
      " [ 5 14 20]\n",
      " [ 8 15 21]\n",
      " [ 9 18 22]\n",
      " [19 15 12]\n",
      " [12 15 11]\n",
      " [17 12 13]\n",
      " [11 19 10]] (8, 3)\n"
     ]
    }
   ],
   "source": [
    "print(matriz4.T,np.shape(matriz4.T))\n",
    "print(matriz5.T,np.shape(matriz5.T))"
   ]
  }
 ],
 "metadata": {
  "kernelspec": {
   "display_name": "Python 3",
   "language": "python",
   "name": "python3"
  },
  "language_info": {
   "codemirror_mode": {
    "name": "ipython",
    "version": 3
   },
   "file_extension": ".py",
   "mimetype": "text/x-python",
   "name": "python",
   "nbconvert_exporter": "python",
   "pygments_lexer": "ipython3",
   "version": "3.10.12"
  },
  "orig_nbformat": 4
 },
 "nbformat": 4,
 "nbformat_minor": 2
}
