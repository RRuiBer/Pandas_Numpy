{
 "cells": [
  {
   "cell_type": "markdown",
   "metadata": {},
   "source": [
    "## Shape y reshape"
   ]
  },
  {
   "cell_type": "code",
   "execution_count": 1,
   "metadata": {},
   "outputs": [],
   "source": [
    "import numpy as np"
   ]
  },
  {
   "cell_type": "markdown",
   "metadata": {},
   "source": [
    "### Shape"
   ]
  },
  {
   "cell_type": "markdown",
   "metadata": {},
   "source": [
    "Shape muestra las dimensiones del arreglo creado:"
   ]
  },
  {
   "cell_type": "code",
   "execution_count": 4,
   "metadata": {},
   "outputs": [
    {
     "name": "stdout",
     "output_type": "stream",
     "text": [
      "Las dimensiones de la matriz = \n",
      "[[1 2 3]\n",
      " [4 5 6]]\n",
      "son: (2, 3)\n"
     ]
    }
   ],
   "source": [
    "matriz = np.array([[1,2,3],[4,5,6]])\n",
    "print(f\"Las dimensiones de la matriz = \\n{matriz}\\nson: {matriz.shape}\")"
   ]
  },
  {
   "cell_type": "markdown",
   "metadata": {},
   "source": [
    "### Reshape"
   ]
  },
  {
   "cell_type": "markdown",
   "metadata": {},
   "source": [
    "Reshape nos permite redimensionar un arreglo."
   ]
  },
  {
   "cell_type": "code",
   "execution_count": 5,
   "metadata": {},
   "outputs": [
    {
     "name": "stdout",
     "output_type": "stream",
     "text": [
      "Se puede redimensionar la matriz de 2x3 a 3x2\n",
      "matriz =\n",
      "[[1 2]\n",
      " [3 4]\n",
      " [5 6]].\n"
     ]
    }
   ],
   "source": [
    "print(f\"Se puede redimensionar la matriz de 2x3 a 3x2\\nmatriz =\\n{matriz.reshape(3,2)}.\")"
   ]
  },
  {
   "cell_type": "markdown",
   "metadata": {},
   "source": [
    "Hay dos métodos para hacer reshape."
   ]
  },
  {
   "cell_type": "code",
   "execution_count": 17,
   "metadata": {},
   "outputs": [
    {
     "name": "stdout",
     "output_type": "stream",
     "text": [
      "[[1 2 3]\n",
      " [4 5 6]] \n",
      " [[1 2]\n",
      " [3 4]\n",
      " [5 6]]\n"
     ]
    }
   ],
   "source": [
    "matriz1 = np.reshape(matriz,(3,2),'C') # el método 'C' redimensiona como en lenguaje C\n",
    "print(matriz, '\\n', matriz1) # el método 'C' recorre las filas para transformarlas en filas"
   ]
  },
  {
   "cell_type": "code",
   "execution_count": 14,
   "metadata": {},
   "outputs": [
    {
     "name": "stdout",
     "output_type": "stream",
     "text": [
      "[[1 2 3]\n",
      " [4 5 6]] \n",
      " [[1 5]\n",
      " [4 3]\n",
      " [2 6]]\n"
     ]
    }
   ],
   "source": [
    "matriz2 = np.reshape(matriz,(3,2),'F') # el método 'F' redimensiona como en lenguaje Fortran\n",
    "print(matriz, '\\n', matriz2) # el método F recorre las columnas y para transformarlas en columnas"
   ]
  },
  {
   "cell_type": "code",
   "execution_count": 18,
   "metadata": {},
   "outputs": [
    {
     "name": "stdout",
     "output_type": "stream",
     "text": [
      "[[1 2 3]\n",
      " [4 5 6]] \n",
      " [[1 2]\n",
      " [3 4]\n",
      " [5 6]]\n"
     ]
    }
   ],
   "source": [
    "matriz3 = np.reshape(matriz,(3,2),'A') # el método 'A' redimensiona según esté optimizado el dispositivo que se está usando\n",
    "print(matriz, '\\n', matriz3) # en este caso el método óptimo es el 'C'"
   ]
  }
 ],
 "metadata": {
  "kernelspec": {
   "display_name": "Python 3",
   "language": "python",
   "name": "python3"
  },
  "language_info": {
   "codemirror_mode": {
    "name": "ipython",
    "version": 3
   },
   "file_extension": ".py",
   "mimetype": "text/x-python",
   "name": "python",
   "nbconvert_exporter": "python",
   "pygments_lexer": "ipython3",
   "version": "3.10.12"
  },
  "orig_nbformat": 4
 },
 "nbformat": 4,
 "nbformat_minor": 2
}
